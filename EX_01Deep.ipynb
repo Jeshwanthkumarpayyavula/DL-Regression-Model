{
  "nbformat": 4,
  "nbformat_minor": 0,
  "metadata": {
    "colab": {
      "provenance": []
    },
    "kernelspec": {
      "name": "python3",
      "display_name": "Python 3"
    },
    "language_info": {
      "name": "python"
    }
  },
  "cells": [
    {
      "cell_type": "code",
      "execution_count": 120,
      "metadata": {
        "id": "dxZCGRPxUF2v"
      },
      "outputs": [],
      "source": [
        "import torch\n",
        "import torch.nn as nn\n",
        "import numpy as np\n",
        "import matplotlib.pyplot as plt"
      ]
    },
    {
      "cell_type": "code",
      "source": [
        "X=torch.linspace(1,70,70).reshape(-1,1)"
      ],
      "metadata": {
        "id": "9ydUyGPxUTaO"
      },
      "execution_count": 121,
      "outputs": []
    },
    {
      "cell_type": "code",
      "source": [
        "X"
      ],
      "metadata": {
        "colab": {
          "base_uri": "https://localhost:8080/"
        },
        "id": "DYcoJ-SeUku8",
        "outputId": "f3711345-4a3b-4c47-ff34-4c3b6427f7ca"
      },
      "execution_count": 122,
      "outputs": [
        {
          "output_type": "execute_result",
          "data": {
            "text/plain": [
              "tensor([[ 1.],\n",
              "        [ 2.],\n",
              "        [ 3.],\n",
              "        [ 4.],\n",
              "        [ 5.],\n",
              "        [ 6.],\n",
              "        [ 7.],\n",
              "        [ 8.],\n",
              "        [ 9.],\n",
              "        [10.],\n",
              "        [11.],\n",
              "        [12.],\n",
              "        [13.],\n",
              "        [14.],\n",
              "        [15.],\n",
              "        [16.],\n",
              "        [17.],\n",
              "        [18.],\n",
              "        [19.],\n",
              "        [20.],\n",
              "        [21.],\n",
              "        [22.],\n",
              "        [23.],\n",
              "        [24.],\n",
              "        [25.],\n",
              "        [26.],\n",
              "        [27.],\n",
              "        [28.],\n",
              "        [29.],\n",
              "        [30.],\n",
              "        [31.],\n",
              "        [32.],\n",
              "        [33.],\n",
              "        [34.],\n",
              "        [35.],\n",
              "        [36.],\n",
              "        [37.],\n",
              "        [38.],\n",
              "        [39.],\n",
              "        [40.],\n",
              "        [41.],\n",
              "        [42.],\n",
              "        [43.],\n",
              "        [44.],\n",
              "        [45.],\n",
              "        [46.],\n",
              "        [47.],\n",
              "        [48.],\n",
              "        [49.],\n",
              "        [50.],\n",
              "        [51.],\n",
              "        [52.],\n",
              "        [53.],\n",
              "        [54.],\n",
              "        [55.],\n",
              "        [56.],\n",
              "        [57.],\n",
              "        [58.],\n",
              "        [59.],\n",
              "        [60.],\n",
              "        [61.],\n",
              "        [62.],\n",
              "        [63.],\n",
              "        [64.],\n",
              "        [65.],\n",
              "        [66.],\n",
              "        [67.],\n",
              "        [68.],\n",
              "        [69.],\n",
              "        [70.]])"
            ]
          },
          "metadata": {},
          "execution_count": 122
        }
      ]
    },
    {
      "cell_type": "code",
      "source": [
        "e = torch.randint(-8, 9, (70, 1), dtype=torch.float)\n",
        "y = 2 * X + 1 + e\n",
        "print(y.shape)\n"
      ],
      "metadata": {
        "id": "d-23Cp0RUljU",
        "colab": {
          "base_uri": "https://localhost:8080/"
        },
        "outputId": "91d393cc-cfa2-4e3b-8e86-d6e4add935e0"
      },
      "execution_count": 123,
      "outputs": [
        {
          "output_type": "stream",
          "name": "stdout",
          "text": [
            "torch.Size([70, 1])\n"
          ]
        }
      ]
    },
    {
      "cell_type": "markdown",
      "source": [
        "Jeshwath Kumar\n",
        "212223240114\n"
      ],
      "metadata": {
        "id": "tC8IMvRfU7K5"
      }
    },
    {
      "cell_type": "code",
      "source": [
        "print(e.sum)"
      ],
      "metadata": {
        "colab": {
          "base_uri": "https://localhost:8080/"
        },
        "id": "zWD4GSFXUqFk",
        "outputId": "ce33172d-24ef-4979-d6ca-a6f39df09b3b"
      },
      "execution_count": 124,
      "outputs": [
        {
          "output_type": "stream",
          "name": "stdout",
          "text": [
            "<built-in method sum of Tensor object at 0x7925852a6330>\n"
          ]
        }
      ]
    },
    {
      "cell_type": "code",
      "source": [
        "y=2*X+1+e\n",
        "print(y.shape)\n",
        "X.shape"
      ],
      "metadata": {
        "colab": {
          "base_uri": "https://localhost:8080/"
        },
        "id": "qg6F4f_1VCQ_",
        "outputId": "44dec1ac-5fb3-440a-db67-0ad35f33779d"
      },
      "execution_count": 125,
      "outputs": [
        {
          "output_type": "stream",
          "name": "stdout",
          "text": [
            "torch.Size([70, 1])\n"
          ]
        },
        {
          "output_type": "execute_result",
          "data": {
            "text/plain": [
              "torch.Size([70, 1])"
            ]
          },
          "metadata": {},
          "execution_count": 125
        }
      ]
    },
    {
      "cell_type": "code",
      "source": [
        "plt.scatter(X.numpy(),y.numpy())\n",
        "plt.xlabel(\"X\")\n",
        "plt.ylabel(\"y\")\n",
        "plt.show()"
      ],
      "metadata": {
        "id": "HZa2zcjEWE7A",
        "colab": {
          "base_uri": "https://localhost:8080/",
          "height": 449
        },
        "outputId": "7b5c4e79-6280-478b-eb58-666d98c50e7d"
      },
      "execution_count": 126,
      "outputs": [
        {
          "output_type": "display_data",
          "data": {
            "text/plain": [
              "<Figure size 640x480 with 1 Axes>"
            ],
            "image/png": "[encoded data removed]"
          },
          "metadata": {}
        }
      ]
    },
    {
      "cell_type": "code",
      "source": [
        "torch.manual_seed(59)\n",
        "model = nn.Linear(1,1)\n",
        "print('Weight: ', model.weight.item())\n",
        "print('Bias: ',model.bias.item())"
      ],
      "metadata": {
        "colab": {
          "base_uri": "https://localhost:8080/"
        },
        "id": "yx7i3ryrhRuX",
        "outputId": "2deaa0ac-28f6-4ad3-a395-a250abfe2fb9"
      },
      "execution_count": 139,
      "outputs": [
        {
          "output_type": "stream",
          "name": "stdout",
          "text": [
            "Weight:  0.10597813129425049\n",
            "Bias:  0.9637961387634277\n"
          ]
        }
      ]
    },
    {
      "cell_type": "code",
      "source": [
        "epochs = 100\n",
        "losses = []\n",
        "\n",
        "for epoch in range(1, epochs + 1):\n",
        "    optimizer.zero_grad()\n",
        "    y_pred = model(X)\n",
        "    loss = loss_function(y_pred, y)\n",
        "    losses.append(loss.item())\n",
        "\n",
        "    loss.backward()\n",
        "    optimizer.step()\n",
        "\n",
        "\n",
        "    print(f'epoch: {epoch:2}  loss: {loss.item():10.8f}  '\n",
        "          f'weight: {model.weight.item():10.8f}  '\n",
        "          f'bias: {model.bias.item():10.8f}')\n"
      ],
      "metadata": {
        "colab": {
          "base_uri": "https://localhost:8080/"
        },
        "id": "r-yopBTJXth4",
        "outputId": "082c7748-64bc-4c90-9d6d-602edd039e6d"
      },
      "execution_count": 140,
      "outputs": [
        {
          "output_type": "stream",
          "name": "stdout",
          "text": [
            "epoch:  1  loss: 5988.99218750  weight: 0.10597813  bias: 0.96379614\n",
            "epoch:  2  loss: 5988.99218750  weight: 0.10597813  bias: 0.96379614\n",
            "epoch:  3  loss: 5988.99218750  weight: 0.10597813  bias: 0.96379614\n",
            "epoch:  4  loss: 5988.99218750  weight: 0.10597813  bias: 0.96379614\n",
            "epoch:  5  loss: 5988.99218750  weight: 0.10597813  bias: 0.96379614\n",
            "epoch:  6  loss: 5988.99218750  weight: 0.10597813  bias: 0.96379614\n",
            "epoch:  7  loss: 5988.99218750  weight: 0.10597813  bias: 0.96379614\n",
            "epoch:  8  loss: 5988.99218750  weight: 0.10597813  bias: 0.96379614\n",
            "epoch:  9  loss: 5988.99218750  weight: 0.10597813  bias: 0.96379614\n",
            "epoch: 10  loss: 5988.99218750  weight: 0.10597813  bias: 0.96379614\n",
            "epoch: 11  loss: 5988.99218750  weight: 0.10597813  bias: 0.96379614\n",
            "epoch: 12  loss: 5988.99218750  weight: 0.10597813  bias: 0.96379614\n",
            "epoch: 13  loss: 5988.99218750  weight: 0.10597813  bias: 0.96379614\n",
            "epoch: 14  loss: 5988.99218750  weight: 0.10597813  bias: 0.96379614\n",
            "epoch: 15  loss: 5988.99218750  weight: 0.10597813  bias: 0.96379614\n",
            "epoch: 16  loss: 5988.99218750  weight: 0.10597813  bias: 0.96379614\n",
            "epoch: 17  loss: 5988.99218750  weight: 0.10597813  bias: 0.96379614\n",
            "epoch: 18  loss: 5988.99218750  weight: 0.10597813  bias: 0.96379614\n",
            "epoch: 19  loss: 5988.99218750  weight: 0.10597813  bias: 0.96379614\n",
            "epoch: 20  loss: 5988.99218750  weight: 0.10597813  bias: 0.96379614\n",
            "epoch: 21  loss: 5988.99218750  weight: 0.10597813  bias: 0.96379614\n",
            "epoch: 22  loss: 5988.99218750  weight: 0.10597813  bias: 0.96379614\n",
            "epoch: 23  loss: 5988.99218750  weight: 0.10597813  bias: 0.96379614\n",
            "epoch: 24  loss: 5988.99218750  weight: 0.10597813  bias: 0.96379614\n",
            "epoch: 25  loss: 5988.99218750  weight: 0.10597813  bias: 0.96379614\n",
            "epoch: 26  loss: 5988.99218750  weight: 0.10597813  bias: 0.96379614\n",
            "epoch: 27  loss: 5988.99218750  weight: 0.10597813  bias: 0.96379614\n",
            "epoch: 28  loss: 5988.99218750  weight: 0.10597813  bias: 0.96379614\n",
            "epoch: 29  loss: 5988.99218750  weight: 0.10597813  bias: 0.96379614\n",
            "epoch: 30  loss: 5988.99218750  weight: 0.10597813  bias: 0.96379614\n",
            "epoch: 31  loss: 5988.99218750  weight: 0.10597813  bias: 0.96379614\n",
            "epoch: 32  loss: 5988.99218750  weight: 0.10597813  bias: 0.96379614\n",
            "epoch: 33  loss: 5988.99218750  weight: 0.10597813  bias: 0.96379614\n",
            "epoch: 34  loss: 5988.99218750  weight: 0.10597813  bias: 0.96379614\n",
            "epoch: 35  loss: 5988.99218750  weight: 0.10597813  bias: 0.96379614\n",
            "epoch: 36  loss: 5988.99218750  weight: 0.10597813  bias: 0.96379614\n",
            "epoch: 37  loss: 5988.99218750  weight: 0.10597813  bias: 0.96379614\n",
            "epoch: 38  loss: 5988.99218750  weight: 0.10597813  bias: 0.96379614\n",
            "epoch: 39  loss: 5988.99218750  weight: 0.10597813  bias: 0.96379614\n",
            "epoch: 40  loss: 5988.99218750  weight: 0.10597813  bias: 0.96379614\n",
            "epoch: 41  loss: 5988.99218750  weight: 0.10597813  bias: 0.96379614\n",
            "epoch: 42  loss: 5988.99218750  weight: 0.10597813  bias: 0.96379614\n",
            "epoch: 43  loss: 5988.99218750  weight: 0.10597813  bias: 0.96379614\n",
            "epoch: 44  loss: 5988.99218750  weight: 0.10597813  bias: 0.96379614\n",
            "epoch: 45  loss: 5988.99218750  weight: 0.10597813  bias: 0.96379614\n",
            "epoch: 46  loss: 5988.99218750  weight: 0.10597813  bias: 0.96379614\n",
            "epoch: 47  loss: 5988.99218750  weight: 0.10597813  bias: 0.96379614\n",
            "epoch: 48  loss: 5988.99218750  weight: 0.10597813  bias: 0.96379614\n",
            "epoch: 49  loss: 5988.99218750  weight: 0.10597813  bias: 0.96379614\n",
            "epoch: 50  loss: 5988.99218750  weight: 0.10597813  bias: 0.96379614\n",
            "epoch: 51  loss: 5988.99218750  weight: 0.10597813  bias: 0.96379614\n",
            "epoch: 52  loss: 5988.99218750  weight: 0.10597813  bias: 0.96379614\n",
            "epoch: 53  loss: 5988.99218750  weight: 0.10597813  bias: 0.96379614\n",
            "epoch: 54  loss: 5988.99218750  weight: 0.10597813  bias: 0.96379614\n",
            "epoch: 55  loss: 5988.99218750  weight: 0.10597813  bias: 0.96379614\n",
            "epoch: 56  loss: 5988.99218750  weight: 0.10597813  bias: 0.96379614\n",
            "epoch: 57  loss: 5988.99218750  weight: 0.10597813  bias: 0.96379614\n",
            "epoch: 58  loss: 5988.99218750  weight: 0.10597813  bias: 0.96379614\n",
            "epoch: 59  loss: 5988.99218750  weight: 0.10597813  bias: 0.96379614\n",
            "epoch: 60  loss: 5988.99218750  weight: 0.10597813  bias: 0.96379614\n",
            "epoch: 61  loss: 5988.99218750  weight: 0.10597813  bias: 0.96379614\n",
            "epoch: 62  loss: 5988.99218750  weight: 0.10597813  bias: 0.96379614\n",
            "epoch: 63  loss: 5988.99218750  weight: 0.10597813  bias: 0.96379614\n",
            "epoch: 64  loss: 5988.99218750  weight: 0.10597813  bias: 0.96379614\n",
            "epoch: 65  loss: 5988.99218750  weight: 0.10597813  bias: 0.96379614\n",
            "epoch: 66  loss: 5988.99218750  weight: 0.10597813  bias: 0.96379614\n",
            "epoch: 67  loss: 5988.99218750  weight: 0.10597813  bias: 0.96379614\n",
            "epoch: 68  loss: 5988.99218750  weight: 0.10597813  bias: 0.96379614\n",
            "epoch: 69  loss: 5988.99218750  weight: 0.10597813  bias: 0.96379614\n",
            "epoch: 70  loss: 5988.99218750  weight: 0.10597813  bias: 0.96379614\n",
            "epoch: 71  loss: 5988.99218750  weight: 0.10597813  bias: 0.96379614\n",
            "epoch: 72  loss: 5988.99218750  weight: 0.10597813  bias: 0.96379614\n",
            "epoch: 73  loss: 5988.99218750  weight: 0.10597813  bias: 0.96379614\n",
            "epoch: 74  loss: 5988.99218750  weight: 0.10597813  bias: 0.96379614\n",
            "epoch: 75  loss: 5988.99218750  weight: 0.10597813  bias: 0.96379614\n",
            "epoch: 76  loss: 5988.99218750  weight: 0.10597813  bias: 0.96379614\n",
            "epoch: 77  loss: 5988.99218750  weight: 0.10597813  bias: 0.96379614\n",
            "epoch: 78  loss: 5988.99218750  weight: 0.10597813  bias: 0.96379614\n",
            "epoch: 79  loss: 5988.99218750  weight: 0.10597813  bias: 0.96379614\n",
            "epoch: 80  loss: 5988.99218750  weight: 0.10597813  bias: 0.96379614\n",
            "epoch: 81  loss: 5988.99218750  weight: 0.10597813  bias: 0.96379614\n",
            "epoch: 82  loss: 5988.99218750  weight: 0.10597813  bias: 0.96379614\n",
            "epoch: 83  loss: 5988.99218750  weight: 0.10597813  bias: 0.96379614\n",
            "epoch: 84  loss: 5988.99218750  weight: 0.10597813  bias: 0.96379614\n",
            "epoch: 85  loss: 5988.99218750  weight: 0.10597813  bias: 0.96379614\n",
            "epoch: 86  loss: 5988.99218750  weight: 0.10597813  bias: 0.96379614\n",
            "epoch: 87  loss: 5988.99218750  weight: 0.10597813  bias: 0.96379614\n",
            "epoch: 88  loss: 5988.99218750  weight: 0.10597813  bias: 0.96379614\n",
            "epoch: 89  loss: 5988.99218750  weight: 0.10597813  bias: 0.96379614\n",
            "epoch: 90  loss: 5988.99218750  weight: 0.10597813  bias: 0.96379614\n",
            "epoch: 91  loss: 5988.99218750  weight: 0.10597813  bias: 0.96379614\n",
            "epoch: 92  loss: 5988.99218750  weight: 0.10597813  bias: 0.96379614\n",
            "epoch: 93  loss: 5988.99218750  weight: 0.10597813  bias: 0.96379614\n",
            "epoch: 94  loss: 5988.99218750  weight: 0.10597813  bias: 0.96379614\n",
            "epoch: 95  loss: 5988.99218750  weight: 0.10597813  bias: 0.96379614\n",
            "epoch: 96  loss: 5988.99218750  weight: 0.10597813  bias: 0.96379614\n",
            "epoch: 97  loss: 5988.99218750  weight: 0.10597813  bias: 0.96379614\n",
            "epoch: 98  loss: 5988.99218750  weight: 0.10597813  bias: 0.96379614\n",
            "epoch: 99  loss: 5988.99218750  weight: 0.10597813  bias: 0.96379614\n",
            "epoch: 100  loss: 5988.99218750  weight: 0.10597813  bias: 0.96379614\n"
          ]
        }
      ]
    },
    {
      "cell_type": "code",
      "source": [],
      "metadata": {
        "colab": {
          "base_uri": "https://localhost:8080/"
        },
        "id": "-LZ91kdRZZtL",
        "outputId": "dd2947dd-480a-44c7-90c8-dcaa7f3df8e1"
      },
      "execution_count": 135,
      "outputs": [
        {
          "output_type": "stream",
          "name": "stdout",
          "text": [
            "Weight: 0.10597813129425049\n",
            "Bias: 0.9637961387634277\n"
          ]
        }
      ]
    },
    {
      "cell_type": "code",
      "source": [
        "loss_function=nn.MSELoss()\n",
        "optimizer=torch.optim.SGD(model.parameters(),lr=0.0001)"
      ],
      "metadata": {
        "id": "vzXKeQfbaOui"
      },
      "execution_count": 141,
      "outputs": []
    },
    {
      "cell_type": "code",
      "source": [
        "epochs = 100\n",
        "losses = []\n",
        "\n",
        "for epoch in range(1, epochs + 1):\n",
        "    optimizer.zero_grad()\n",
        "    y_pred = model(X)\n",
        "    loss = loss_function(y_pred, y)\n",
        "    losses.append(loss.item())\n",
        "\n",
        "    loss.backward()\n",
        "    optimizer.step()\n",
        "\n",
        "\n",
        "    print(f'epoch: {epoch:2}  loss: {loss.item():10.8f}  '\n",
        "          f'weight: {model.weight.item():10.8f}  '\n",
        "          f'bias: {model.bias.item():10.8f}')\n"
      ],
      "metadata": {
        "colab": {
          "base_uri": "https://localhost:8080/"
        },
        "id": "M04tdc8UbEgc",
        "outputId": "37788899-7581-4b96-c4bb-4b8da51fbe04"
      },
      "execution_count": 142,
      "outputs": [
        {
          "output_type": "stream",
          "name": "stdout",
          "text": [
            "epoch:  1  loss: 5988.99218750  weight: 0.73706168  bias: 0.97717094\n",
            "epoch:  2  loss: 2669.64526367  weight: 1.15745771  bias: 0.98606235\n",
            "epoch:  3  loss: 1196.67077637  weight: 1.43750441  bias: 0.99196720\n",
            "epoch:  4  loss: 543.03186035  weight: 1.62405765  bias: 0.99588251\n",
            "epoch:  5  loss: 252.97663879  weight: 1.74833024  bias: 0.99847251\n",
            "epoch:  6  loss: 124.26333618  weight: 1.83111465  bias: 1.00017965\n",
            "epoch:  7  loss: 67.14625549  weight: 1.88626182  bias: 1.00129867\n",
            "epoch:  8  loss: 41.80029678  weight: 1.92299843  bias: 1.00202596\n",
            "epoch:  9  loss: 30.55285263  weight: 1.94747090  bias: 1.00249231\n",
            "epoch: 10  loss: 25.56175041  weight: 1.96377361  bias: 1.00278473\n",
            "epoch: 11  loss: 23.34690666  weight: 1.97463405  bias: 1.00296140\n",
            "epoch: 12  loss: 22.36404228  weight: 1.98186910  bias: 1.00306094\n",
            "epoch: 13  loss: 21.92788124  weight: 1.98668909  bias: 1.00310910\n",
            "epoch: 14  loss: 21.73431396  weight: 1.98990023  bias: 1.00312293\n",
            "epoch: 15  loss: 21.64840698  weight: 1.99203980  bias: 1.00311399\n",
            "epoch: 16  loss: 21.61026001  weight: 1.99346542  bias: 1.00308990\n",
            "epoch: 17  loss: 21.59331703  weight: 1.99441552  bias: 1.00305569\n",
            "epoch: 18  loss: 21.58578300  weight: 1.99504876  bias: 1.00301468\n",
            "epoch: 19  loss: 21.58242607  weight: 1.99547100  bias: 1.00296926\n",
            "epoch: 20  loss: 21.58091736  weight: 1.99575269  bias: 1.00292087\n",
            "epoch: 21  loss: 21.58022690  weight: 1.99594069  bias: 1.00287044\n",
            "epoch: 22  loss: 21.57991028  weight: 1.99606633  bias: 1.00281870\n",
            "epoch: 23  loss: 21.57975578  weight: 1.99615037  bias: 1.00276601\n",
            "epoch: 24  loss: 21.57966042  weight: 1.99620676  bias: 1.00271285\n",
            "epoch: 25  loss: 21.57960892  weight: 1.99624467  bias: 1.00265920\n",
            "epoch: 26  loss: 21.57956886  weight: 1.99627042  bias: 1.00260532\n",
            "epoch: 27  loss: 21.57953453  weight: 1.99628794  bias: 1.00255132\n",
            "epoch: 28  loss: 21.57950783  weight: 1.99629998  bias: 1.00249720\n",
            "epoch: 29  loss: 21.57947540  weight: 1.99630833  bias: 1.00244296\n",
            "epoch: 30  loss: 21.57944107  weight: 1.99631429  bias: 1.00238872\n",
            "epoch: 31  loss: 21.57941055  weight: 1.99631870  bias: 1.00233436\n",
            "epoch: 32  loss: 21.57938385  weight: 1.99632204  bias: 1.00228000\n",
            "epoch: 33  loss: 21.57935143  weight: 1.99632466  bias: 1.00222564\n",
            "epoch: 34  loss: 21.57932091  weight: 1.99632668  bias: 1.00217128\n",
            "epoch: 35  loss: 21.57929420  weight: 1.99632847  bias: 1.00211692\n",
            "epoch: 36  loss: 21.57927322  weight: 1.99633002  bias: 1.00206256\n",
            "epoch: 37  loss: 21.57923508  weight: 1.99633145  bias: 1.00200820\n",
            "epoch: 38  loss: 21.57920647  weight: 1.99633276  bias: 1.00195384\n",
            "epoch: 39  loss: 21.57917213  weight: 1.99633408  bias: 1.00189948\n",
            "epoch: 40  loss: 21.57914734  weight: 1.99633539  bias: 1.00184512\n",
            "epoch: 41  loss: 21.57912064  weight: 1.99633658  bias: 1.00179076\n",
            "epoch: 42  loss: 21.57907867  weight: 1.99633777  bias: 1.00173640\n",
            "epoch: 43  loss: 21.57905579  weight: 1.99633896  bias: 1.00168204\n",
            "epoch: 44  loss: 21.57903099  weight: 1.99634016  bias: 1.00162768\n",
            "epoch: 45  loss: 21.57900429  weight: 1.99634135  bias: 1.00157332\n",
            "epoch: 46  loss: 21.57896805  weight: 1.99634254  bias: 1.00151896\n",
            "epoch: 47  loss: 21.57894135  weight: 1.99634373  bias: 1.00146461\n",
            "epoch: 48  loss: 21.57891273  weight: 1.99634480  bias: 1.00141025\n",
            "epoch: 49  loss: 21.57887650  weight: 1.99634600  bias: 1.00135589\n",
            "epoch: 50  loss: 21.57884979  weight: 1.99634707  bias: 1.00130153\n",
            "epoch: 51  loss: 21.57881546  weight: 1.99634826  bias: 1.00124717\n",
            "epoch: 52  loss: 21.57879639  weight: 1.99634945  bias: 1.00119281\n",
            "epoch: 53  loss: 21.57876205  weight: 1.99635065  bias: 1.00113845\n",
            "epoch: 54  loss: 21.57873726  weight: 1.99635184  bias: 1.00108409\n",
            "epoch: 55  loss: 21.57869720  weight: 1.99635291  bias: 1.00102973\n",
            "epoch: 56  loss: 21.57867241  weight: 1.99635410  bias: 1.00097537\n",
            "epoch: 57  loss: 21.57864380  weight: 1.99635530  bias: 1.00092101\n",
            "epoch: 58  loss: 21.57860756  weight: 1.99635637  bias: 1.00086665\n",
            "epoch: 59  loss: 21.57858276  weight: 1.99635756  bias: 1.00081229\n",
            "epoch: 60  loss: 21.57855606  weight: 1.99635875  bias: 1.00075793\n",
            "epoch: 61  loss: 21.57853127  weight: 1.99635994  bias: 1.00070369\n",
            "epoch: 62  loss: 21.57849312  weight: 1.99636102  bias: 1.00064945\n",
            "epoch: 63  loss: 21.57846832  weight: 1.99636221  bias: 1.00059521\n",
            "epoch: 64  loss: 21.57843971  weight: 1.99636328  bias: 1.00054097\n",
            "epoch: 65  loss: 21.57839966  weight: 1.99636447  bias: 1.00048673\n",
            "epoch: 66  loss: 21.57838058  weight: 1.99636567  bias: 1.00043249\n",
            "epoch: 67  loss: 21.57834435  weight: 1.99636686  bias: 1.00037825\n",
            "epoch: 68  loss: 21.57831955  weight: 1.99636793  bias: 1.00032401\n",
            "epoch: 69  loss: 21.57829285  weight: 1.99636912  bias: 1.00026977\n",
            "epoch: 70  loss: 21.57826424  weight: 1.99637032  bias: 1.00021553\n",
            "epoch: 71  loss: 21.57822800  weight: 1.99637151  bias: 1.00016129\n",
            "epoch: 72  loss: 21.57820129  weight: 1.99637258  bias: 1.00010705\n",
            "epoch: 73  loss: 21.57817078  weight: 1.99637377  bias: 1.00005281\n",
            "epoch: 74  loss: 21.57814598  weight: 1.99637485  bias: 0.99999857\n",
            "epoch: 75  loss: 21.57811546  weight: 1.99637604  bias: 0.99994433\n",
            "epoch: 76  loss: 21.57808304  weight: 1.99637723  bias: 0.99989009\n",
            "epoch: 77  loss: 21.57805061  weight: 1.99637830  bias: 0.99983585\n",
            "epoch: 78  loss: 21.57802200  weight: 1.99637949  bias: 0.99978161\n",
            "epoch: 79  loss: 21.57800102  weight: 1.99638069  bias: 0.99972737\n",
            "epoch: 80  loss: 21.57796478  weight: 1.99638188  bias: 0.99967313\n",
            "epoch: 81  loss: 21.57793999  weight: 1.99638295  bias: 0.99961889\n",
            "epoch: 82  loss: 21.57790375  weight: 1.99638414  bias: 0.99956465\n",
            "epoch: 83  loss: 21.57787704  weight: 1.99638534  bias: 0.99951041\n",
            "epoch: 84  loss: 21.57784843  weight: 1.99638641  bias: 0.99945617\n",
            "epoch: 85  loss: 21.57781792  weight: 1.99638760  bias: 0.99940193\n",
            "epoch: 86  loss: 21.57778740  weight: 1.99638867  bias: 0.99934769\n",
            "epoch: 87  loss: 21.57776070  weight: 1.99638987  bias: 0.99929345\n",
            "epoch: 88  loss: 21.57773399  weight: 1.99639106  bias: 0.99923921\n",
            "epoch: 89  loss: 21.57770348  weight: 1.99639225  bias: 0.99918497\n",
            "epoch: 90  loss: 21.57767487  weight: 1.99639332  bias: 0.99913073\n",
            "epoch: 91  loss: 21.57763863  weight: 1.99639452  bias: 0.99907649\n",
            "epoch: 92  loss: 21.57761002  weight: 1.99639571  bias: 0.99902225\n",
            "epoch: 93  loss: 21.57758713  weight: 1.99639678  bias: 0.99896801\n",
            "epoch: 94  loss: 21.57755470  weight: 1.99639797  bias: 0.99891376\n",
            "epoch: 95  loss: 21.57752228  weight: 1.99639904  bias: 0.99885958\n",
            "epoch: 96  loss: 21.57749176  weight: 1.99640024  bias: 0.99880540\n",
            "epoch: 97  loss: 21.57747459  weight: 1.99640143  bias: 0.99875122\n",
            "epoch: 98  loss: 21.57743645  weight: 1.99640262  bias: 0.99869704\n",
            "epoch: 99  loss: 21.57740974  weight: 1.99640369  bias: 0.99864286\n",
            "epoch: 100  loss: 21.57737541  weight: 1.99640489  bias: 0.99858868\n"
          ]
        }
      ]
    },
    {
      "cell_type": "code",
      "source": [
        "plt.plot(range(epochs), losses)\n",
        "plt.ylabel('Loss')\n",
        "plt.xlabel('epoch')\n",
        "plt.show()"
      ],
      "metadata": {
        "colab": {
          "base_uri": "https://localhost:8080/",
          "height": 449
        },
        "id": "F6216Nt9cKxY",
        "outputId": "c5752a57-30fa-4899-c10a-a98d46d2e9ae"
      },
      "execution_count": 143,
      "outputs": [
        {
          "output_type": "display_data",
          "data": {
            "text/plain": [
              "<Figure size 640x480 with 1 Axes>"
            ],
            "image/png": "[encoded data removed]"
          },
          "metadata": {}
        }
      ]
    },
    {
      "cell_type": "code",
      "source": [
        "\n",
        "x1 = torch.tensor([X.min().item(), X.max().item()])\n",
        "\n",
        "w1, b1 = model.weight.item(), model.bias.item()\n",
        "\n",
        "y1 = x1 * w1 + b1\n"
      ],
      "metadata": {
        "id": "KlWhaRphclma"
      },
      "execution_count": 148,
      "outputs": []
    },
    {
      "cell_type": "code",
      "source": [
        "print(f'Final Weight: {w1:.8f}, Final Bias: {b1:.8f}')\n",
        "print(f'X range: {x1.numpy()}')\n",
        "print(f'Predicted Y values: {y1.numpy()}')"
      ],
      "metadata": {
        "colab": {
          "base_uri": "https://localhost:8080/"
        },
        "id": "J2wNKA90haMm",
        "outputId": "2fe1ace5-b054-496a-b731-ce66c92b6682"
      },
      "execution_count": 149,
      "outputs": [
        {
          "output_type": "stream",
          "name": "stdout",
          "text": [
            "Final Weight: 1.99640489, Final Bias: 0.99858868\n",
            "X range: [ 1. 70.]\n",
            "Predicted Y values: [  2.9949937 140.74693  ]\n"
          ]
        }
      ]
    },
    {
      "cell_type": "code",
      "source": [
        "plt.scatter(X.numpy(), y.numpy(), label=\"Original Data\")\n",
        "plt.plot(x1.numpy(), y1.numpy(), 'r', label=\"Best-Fit Line\")\n",
        "plt.xlabel('x')\n",
        "plt.ylabel('y')\n",
        "plt.title('Trained Model: Best-Fit Line')\n",
        "plt.legend()\n",
        "plt.show()"
      ],
      "metadata": {
        "colab": {
          "base_uri": "https://localhost:8080/",
          "height": 472
        },
        "id": "fFVuBqnRhdVV",
        "outputId": "b2cd69fe-d29a-48f1-f355-15edb9c0caec"
      },
      "execution_count": 150,
      "outputs": [
        {
          "output_type": "display_data",
          "data": {
            "text/plain": [
              "<Figure size 640x480 with 1 Axes>"
            ],
            "image/png": "[encoded data removed]"
          },
          "metadata": {}
        }
      ]
    },
    {
      "cell_type": "code",
      "source": [
        "torch.save(model.state_dict(),'Jeshwanth Kumar.pt')"
      ],
      "metadata": {
        "id": "QhhbDxauheyz"
      },
      "execution_count": 151,
      "outputs": []
    },
    {
      "cell_type": "code",
      "source": [],
      "metadata": {
        "id": "tuWvX_wyh1dI"
      },
      "execution_count": null,
      "outputs": []
    }
  ]
}